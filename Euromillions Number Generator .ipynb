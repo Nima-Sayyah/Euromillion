{
 "cells": [
  {
   "cell_type": "code",
   "execution_count": 26,
   "metadata": {},
   "outputs": [
    {
     "name": "stdout",
     "output_type": "stream",
     "text": [
      "[1, 2, 3, 4, 5, 6, 7, 8, 9, 10, 11, 12, 13, 14, 15, 16, 17, 18, 19, 20, 21, 22, 23, 24, 25, 26, 27, 28, 29, 30, 31, 32, 33, 34, 35, 36, 37, 38, 39, 40, 41, 42, 43, 44, 45, 46, 47, 48, 49, 50] \n",
      "\n",
      "[1, 2, 3, 4, 5, 6, 7, 8, 9, 10, 11, 12] \n",
      "\n",
      "Numbers (1-50) - Five Numbers : [18, 23, 32, 35, 37]\n",
      "Lucky Stars (1-12) - Two Numbers : [1, 4]\n"
     ]
    }
   ],
   "source": [
    "import random  #provide random numbers package\n",
    "\n",
    "list1=[]                    #an empty array to store the numbers between 1-50\n",
    "for i in range(1,51):\n",
    "        list1.append(i)\n",
    "\n",
    "print(list1,\"\\n\")           #this is to just display the numbers 1-50\n",
    "        \n",
    "list2=[]                    #an empty array to store the numbers between 1-12\n",
    "for i in range(1,13):\n",
    "        list2.append(i)\n",
    "\n",
    "print(list2,\"\\n\")           #this is to just display the numbers 1-12\n",
    "\n",
    "cnt1=len(list1)             #generates an integer of list1 length \n",
    "cnt2=len(list2)             #generates an integer of list2 length\n",
    "\n",
    "list3=[]                    #an empty array to store the selected 5 numbers \n",
    "for i in range(5):\n",
    "        this = random.randrange(cnt1) #randomly generates numbers \n",
    "        if this !=0:\n",
    "                list3.append(this)\n",
    "        else:\n",
    "                print(\"Something Went Wrong, Try Again\") #error if 0 is randomly generated \n",
    "\n",
    "print(\"Numbers (1-50) - Five Numbers :\",sorted(list3))\n",
    "\n",
    "list4=[]                    #an empty array to store the selected 2 numbers\n",
    "\n",
    "for i in range(2):\n",
    "        that = random.randrange(cnt2) #randomly generates numbers \n",
    "        if that !=0:\n",
    "                list4.append(that)\n",
    "        else:\n",
    "                print(\"Something Went Wrong, Try Again\") ##error if 0 is randomly generated \n",
    "\n",
    "print(\"Lucky Stars (1-12) - Two Numbers :\",sorted(list4))\n",
    "\n"
   ]
  }
 ],
 "metadata": {
  "kernelspec": {
   "display_name": "Python 3",
   "language": "python",
   "name": "python3"
  },
  "language_info": {
   "codemirror_mode": {
    "name": "ipython",
    "version": 3
   },
   "file_extension": ".py",
   "mimetype": "text/x-python",
   "name": "python",
   "nbconvert_exporter": "python",
   "pygments_lexer": "ipython3",
   "version": "3.8.5"
  }
 },
 "nbformat": 4,
 "nbformat_minor": 4
}
